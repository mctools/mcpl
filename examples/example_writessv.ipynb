{
 "cells": [
  {
   "cell_type": "code",
   "execution_count": 1,
   "metadata": {},
   "outputs": [],
   "source": [
    "import numpy as np\n",
    "import mcpl"
   ]
  },
  {
   "cell_type": "code",
   "execution_count": 2,
   "metadata": {},
   "outputs": [],
   "source": [
    "nparticles = 3\n",
    "particles = np.zeros((nparticles, 13))\n",
    "\n",
    "# Particle SSV format:\n",
    "# pdgcode ekin x y z ux uy uz time weight polx poly polz\n",
    "\n",
    "particles[0,0] = 2112 # pdgcode\n",
    "particles[0,1] = 1e-8 # ekin [MeV]\n",
    "particles[0,2] = 1.5  # x [cm]\n",
    "particles[0,3] = -1.0 # y [cm]\n",
    "particles[0,7] = 1.0  # uz\n",
    "particles[0,9] = 1.0  # weight\n",
    "\n",
    "particles[1,0] = 2112 # pdgcode\n",
    "particles[1,1] = 1e-7 # ekin [MeV]\n",
    "particles[1,2] = 5.1  # x [cm]\n",
    "particles[1,3] = 1.9 # y [cm]\n",
    "particles[1,7] = 1.0  # uz\n",
    "particles[1,9] = 1.0  # weight\n",
    "\n",
    "particles[2,0] = 2112 # pdgcode\n",
    "particles[2,1] = 1e-6 # ekin [MeV]\n",
    "particles[2,2] = -1.3 # x [cm]\n",
    "particles[2,3] = -6.0 # y [cm]\n",
    "particles[2,6] = 1.0  # uy\n",
    "particles[2,9] = 1.0  # weight"
   ]
  },
  {
   "cell_type": "code",
   "execution_count": 3,
   "metadata": {},
   "outputs": [
    {
     "ename": "TypeError",
     "evalue": "not all arguments converted during string formatting",
     "output_type": "error",
     "traceback": [
      "\u001b[0;31m---------------------------------------------------------------------------\u001b[0m",
      "\u001b[0;31mTypeError\u001b[0m                                 Traceback (most recent call last)",
      "\u001b[0;32m<ipython-input-3-674c5747f5a0>\u001b[0m in \u001b[0;36m<module>\u001b[0;34m\u001b[0m\n\u001b[1;32m      1\u001b[0m \u001b[0mfilename\u001b[0m \u001b[0;34m=\u001b[0m \u001b[0;34m\"example_savessv.ssv\"\u001b[0m\u001b[0;34m\u001b[0m\u001b[0;34m\u001b[0m\u001b[0m\n\u001b[0;32m----> 2\u001b[0;31m \u001b[0mmcpl\u001b[0m\u001b[0;34m.\u001b[0m\u001b[0msave2ascii\u001b[0m\u001b[0;34m(\u001b[0m\u001b[0mparticles\u001b[0m\u001b[0;34m,\u001b[0m \u001b[0mfilename\u001b[0m\u001b[0;34m)\u001b[0m\u001b[0;34m\u001b[0m\u001b[0;34m\u001b[0m\u001b[0m\n\u001b[0m",
      "\u001b[0;32m~/Universidad/KDSource/MCPLinstall/share/MCPL/python/mcpl.py\u001b[0m in \u001b[0;36msave2ascii\u001b[0;34m(particles, outfile)\u001b[0m\n\u001b[1;32m   1050\u001b[0m         \u001b[0mfmtstr\u001b[0m\u001b[0;34m=\u001b[0m\u001b[0;34m\"%5i %11i %23.18g %23.18g %23.18g %23.18g %23.18g %23.18g %23.18g %23.18g %23.18g %23.18g %23.18g %23.18g\\n\"\u001b[0m\u001b[0;34m\u001b[0m\u001b[0;34m\u001b[0m\u001b[0m\n\u001b[1;32m   1051\u001b[0m         \u001b[0;32mfor\u001b[0m \u001b[0midx\u001b[0m\u001b[0;34m,\u001b[0m\u001b[0mp\u001b[0m \u001b[0;32min\u001b[0m \u001b[0menumerate\u001b[0m\u001b[0;34m(\u001b[0m\u001b[0mparticles\u001b[0m\u001b[0;34m)\u001b[0m\u001b[0;34m:\u001b[0m\u001b[0;34m\u001b[0m\u001b[0;34m\u001b[0m\u001b[0m\n\u001b[0;32m-> 1052\u001b[0;31m             \u001b[0mfout\u001b[0m\u001b[0;34m.\u001b[0m\u001b[0mwrite\u001b[0m\u001b[0;34m(\u001b[0m\u001b[0mfmtstr\u001b[0m\u001b[0;34m%\u001b[0m\u001b[0;34m(\u001b[0m\u001b[0midx\u001b[0m\u001b[0;34m,\u001b[0m \u001b[0;34m*\u001b[0m\u001b[0mp\u001b[0m\u001b[0;34m,\u001b[0m \u001b[0;36m0\u001b[0m\u001b[0;34m)\u001b[0m\u001b[0;34m)\u001b[0m\u001b[0;34m\u001b[0m\u001b[0;34m\u001b[0m\u001b[0m\n\u001b[0m\u001b[1;32m   1053\u001b[0m \u001b[0;34m\u001b[0m\u001b[0m\n\u001b[1;32m   1054\u001b[0m \u001b[0;34m\u001b[0m\u001b[0m\n",
      "\u001b[0;31mTypeError\u001b[0m: not all arguments converted during string formatting"
     ]
    }
   ],
   "source": [
    "filename = \"example_savessv.ssv\"\n",
    "mcpl.save2ascii(particles, filename)"
   ]
  },
  {
   "cell_type": "code",
   "execution_count": null,
   "metadata": {},
   "outputs": [],
   "source": []
  }
 ],
 "metadata": {
  "kernelspec": {
   "display_name": "Python 3",
   "language": "python",
   "name": "python3"
  },
  "language_info": {
   "codemirror_mode": {
    "name": "ipython",
    "version": 3
   },
   "file_extension": ".py",
   "mimetype": "text/x-python",
   "name": "python",
   "nbconvert_exporter": "python",
   "pygments_lexer": "ipython3",
   "version": "3.8.10"
  }
 },
 "nbformat": 4,
 "nbformat_minor": 2
}
